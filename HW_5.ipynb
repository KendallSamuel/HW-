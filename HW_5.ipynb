{
  "nbformat": 4,
  "nbformat_minor": 0,
  "metadata": {
    "colab": {
      "name": "HW 5.ipynb",
      "provenance": [],
      "authorship_tag": "ABX9TyNzFOVQ91SkBMA/0Mur89+S",
      "include_colab_link": true
    },
    "kernelspec": {
      "name": "python3",
      "display_name": "Python 3"
    },
    "language_info": {
      "name": "python"
    }
  },
  "cells": [
    {
      "cell_type": "markdown",
      "metadata": {
        "id": "view-in-github",
        "colab_type": "text"
      },
      "source": [
        "<a href=\"https://colab.research.google.com/github/KendallSamuel/HW-/blob/main/HW_5.ipynb\" target=\"_parent\"><img src=\"https://colab.research.google.com/assets/colab-badge.svg\" alt=\"Open In Colab\"/></a>"
      ]
    },
    {
      "cell_type": "code",
      "execution_count": null,
      "metadata": {
        "id": "g6dk1kxotXLk"
      },
      "outputs": [],
      "source": [
        "#check that the age given is a number and enforce this\n",
        "age = input(\"please give me a number for your age\\t\")\n",
        "while not(age.isdigit()):\n",
        "  age = input(\"Please give me a number for your age\\t\")\n",
        "\n",
        "#convert the age to a number\n",
        "  age = int(age)\n",
        "\n",
        "# check the name is a bunch of letters and not numbers and enforce this\n",
        "name = input(\"Please give me your name\\t\")\n",
        "while not(name.isaplha()):\n",
        "  name = input(\"Please give me your name\\t\")"
      ]
    },
    {
      "cell_type": "code",
      "source": [
        "#pull the digits from a number\n",
        "  x= 841\n",
        "  total = 0\n",
        "  hasThree = False\n",
        "  holder = x\n",
        "\n",
        "#check if it has a three\n",
        "while(holder > 0):\n",
        "  if(holder%10 == 3):\n",
        "    hasThree = True\n",
        "    break\n",
        "  holder = holder // 10\n",
        "\n",
        "#add the digits together\n",
        "while(hasThree and x >0):\n",
        "  total += x%10\n",
        "  x = x//10\n",
        "  \n",
        "print(total)"
      ],
      "metadata": {
        "colab": {
          "base_uri": "https://localhost:8080/"
        },
        "id": "3h7UmAFLvrM7",
        "outputId": "1cf5f28b-199e-4886-9aa1-184002c1618b"
      },
      "execution_count": null,
      "outputs": [
        {
          "output_type": "stream",
          "name": "stdout",
          "text": [
            "0\n"
          ]
        }
      ]
    },
    {
      "cell_type": "markdown",
      "source": [
        "#Print Numbers with a 3 in Them"
      ],
      "metadata": {
        "id": "d2kTS5BNyc44"
      }
    },
    {
      "cell_type": "code",
      "source": [
        "for x in range (1,1001):\n",
        "  hasThree = False\n",
        "  holder = x\n",
        "\n",
        "#check if it has a three\n",
        "while(holder > 0):\n",
        "  if(holder%10 == 3):\n",
        "    hasThree = True\n",
        "    break\n",
        "  holder = holder // 10\n",
        "\n",
        "if(hasThree):\n",
        "  print(x,end=\" \")\n",
        "  "
      ],
      "metadata": {
        "id": "QfwGRgA3yo0C"
      },
      "execution_count": null,
      "outputs": []
    },
    {
      "cell_type": "markdown",
      "source": [
        "#Show numbers whose digits add to 17"
      ],
      "metadata": {
        "id": "a5BqbQfHzR0g"
      }
    },
    {
      "cell_type": "code",
      "source": [
        "for x in range(1,100001):\n",
        "  total = 0\n",
        "  holder = x\n",
        "\n",
        "#add the digits together\n",
        "while(holder > 0):\n",
        "  total += holder%10\n",
        "  holder = holder//10\n",
        "\n",
        "if(total == 17):\n",
        "  print(x, end=\" \")"
      ],
      "metadata": {
        "id": "hamgTcHuzZ-B"
      },
      "execution_count": null,
      "outputs": []
    },
    {
      "cell_type": "markdown",
      "source": [
        "#Show numbers whose digits add to 23 and have a 3 in them"
      ],
      "metadata": {
        "id": "kiu2SvMZ0s-B"
      }
    },
    {
      "cell_type": "code",
      "source": [
        "#pull the digits from a number\n",
        "for x in range(1,10001):\n",
        "  total = 0\n",
        "  hasThree = False\n",
        "  x = holder = 1\n",
        "\n",
        "#check if it has a three\n",
        "while(holder > 0):\n",
        "  if(holder%10 == 3):\n",
        "    hasThree = True\n",
        "    break\n",
        "  holder = holder // 10\n",
        "\n",
        "#add the digits together\n",
        "while(hasThree and x >0):\n",
        "  total += x%10\n",
        "  x = x//10\n",
        "  \n",
        "if(total == 23):\n",
        "  print(x, end=\" \")"
      ],
      "metadata": {
        "id": "S_5we9ru08N5"
      },
      "execution_count": null,
      "outputs": []
    },
    {
      "cell_type": "markdown",
      "source": [
        "#While loop to output all even numbers between 1 and 100 backwards."
      ],
      "metadata": {
        "id": "XsWUq7KL2D5l"
      }
    },
    {
      "cell_type": "code",
      "source": [
        "for i in range(100,0,-1):\n",
        "  print(i, end=\" | \")"
      ],
      "metadata": {
        "colab": {
          "base_uri": "https://localhost:8080/"
        },
        "id": "rsq0vsXN2Q8d",
        "outputId": "0343a283-43ee-4a99-c16c-584e8aaf6ba8"
      },
      "execution_count": null,
      "outputs": [
        {
          "output_type": "stream",
          "name": "stdout",
          "text": [
            "100 | 99 | 98 | 97 | 96 | 95 | 94 | 93 | 92 | 91 | 90 | 89 | 88 | 87 | 86 | 85 | 84 | 83 | 82 | 81 | 80 | 79 | 78 | 77 | 76 | 75 | 74 | 73 | 72 | 71 | 70 | 69 | 68 | 67 | 66 | 65 | 64 | 63 | 62 | 61 | 60 | 59 | 58 | 57 | 56 | 55 | 54 | 53 | 52 | 51 | 50 | 49 | 48 | 47 | 46 | 45 | 44 | 43 | 42 | 41 | 40 | 39 | 38 | 37 | 36 | 35 | 34 | 33 | 32 | 31 | 30 | 29 | 28 | 27 | 26 | 25 | 24 | 23 | 22 | 21 | 20 | 19 | 18 | 17 | 16 | 15 | 14 | 13 | 12 | 11 | 10 | 9 | 8 | 7 | 6 | 5 | 4 | 3 | 2 | 1 | "
          ]
        }
      ]
    },
    {
      "cell_type": "code",
      "source": [
        "for i in range(100,1001):\n",
        "  isPrime = False\n",
        "\n",
        "  start = 2\n",
        "  while(start < i):\n",
        "    if(i % start == 0):\n",
        "      isPrime = False\n",
        "      break\n",
        "    start += 1\n",
        "\n",
        "  if(isPrime):\n",
        "    print(i,end=\" | \")"
      ],
      "metadata": {
        "id": "mQ_RNjYD30HR"
      },
      "execution_count": 1,
      "outputs": []
    }
  ]
}