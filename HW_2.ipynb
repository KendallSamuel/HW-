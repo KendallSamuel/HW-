{
  "nbformat": 4,
  "nbformat_minor": 0,
  "metadata": {
    "colab": {
      "name": "HW 2.ipynb",
      "provenance": [],
      "collapsed_sections": []
    },
    "kernelspec": {
      "name": "python3",
      "display_name": "Python 3"
    },
    "language_info": {
      "name": "python"
    }
  },
  "cells": [
    {
      "cell_type": "markdown",
      "source": [
        "#HW 2\n",
        "\n",
        "My name is **Kendall Samuel**. I play baskestball at the point guard position. I average *5 ppg, 8 rpg and 5 apg*. My favorite NBA teams are:\n",
        "\n",
        "1. Knicks\n",
        "2. Bulls\n",
        "3. Heat\n",
        "4. Pelicans\n",
        "\n",
        "If you want to make some money off sports, check out *Draftkings Sportsbooks* [Here](https://www.draftkings.com/?wpsrc=Organic%20Search&wpaffn=Google&wpkw=https%3A%2F%2Fwww.draftkings.com%2F)"
      ],
      "metadata": {
        "id": "CwQGZPBvokVJ"
      }
    }
  ]
}